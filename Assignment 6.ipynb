{
 "cells": [
  {
   "cell_type": "markdown",
   "id": "3720b07f",
   "metadata": {},
   "source": [
    "# Q1, Create a vehicle class with an init method having instance variables as name_of_vehicle, max_speed and average_of_vehicle.\n"
   ]
  },
  {
   "cell_type": "code",
   "execution_count": 4,
   "id": "2bf2f99e",
   "metadata": {},
   "outputs": [],
   "source": [
    "class vehicle:\n",
    "    def __init__(self,name_of_vehicle,max_speed,average_of_speed):\n",
    "        self.name_of_vehicle=name_of_vehicle\n",
    "        self.max_speed=max_speed\n",
    "        self.average_of_speed=average_of_speed\n",
    "        \n",
    "    def car_details(self):\n",
    "        return self.name_of_vehicle,self.max_speed,self.average_of_speed"
   ]
  },
  {
   "cell_type": "code",
   "execution_count": 5,
   "id": "b31a3ce2",
   "metadata": {},
   "outputs": [],
   "source": [
    "pw=vehicle(\"Rollce Royace\",450,200)"
   ]
  },
  {
   "cell_type": "code",
   "execution_count": 6,
   "id": "9a4db7ad",
   "metadata": {},
   "outputs": [
    {
     "data": {
      "text/plain": [
       "('Rollce Royace', 450, 200)"
      ]
     },
     "execution_count": 6,
     "metadata": {},
     "output_type": "execute_result"
    }
   ],
   "source": [
    "pw.car_details()"
   ]
  },
  {
   "cell_type": "code",
   "execution_count": 7,
   "id": "b756bb21",
   "metadata": {},
   "outputs": [
    {
     "data": {
      "text/plain": [
       "'Rollce Royace'"
      ]
     },
     "execution_count": 7,
     "metadata": {},
     "output_type": "execute_result"
    }
   ],
   "source": [
    "pw.name_of_vehicle"
   ]
  },
  {
   "cell_type": "code",
   "execution_count": 8,
   "id": "dbf1b0f3",
   "metadata": {},
   "outputs": [
    {
     "data": {
      "text/plain": [
       "450"
      ]
     },
     "execution_count": 8,
     "metadata": {},
     "output_type": "execute_result"
    }
   ],
   "source": [
    "pw.max_speed"
   ]
  },
  {
   "cell_type": "code",
   "execution_count": 9,
   "id": "e7d97adc",
   "metadata": {},
   "outputs": [
    {
     "data": {
      "text/plain": [
       "200"
      ]
     },
     "execution_count": 9,
     "metadata": {},
     "output_type": "execute_result"
    }
   ],
   "source": [
    "pw.average_of_speed"
   ]
  },
  {
   "cell_type": "code",
   "execution_count": null,
   "id": "afc084b4",
   "metadata": {},
   "outputs": [],
   "source": []
  },
  {
   "cell_type": "markdown",
   "id": "f5da25e4",
   "metadata": {},
   "source": [
    "# Q2. Create a child class car from the vehicle class created in Que 1, which will inherit the vehicle class.Create a method named seating_capacity which takes capacity as an argument and returns the name of the vehicle and its seating capacity.\n",
    "\n",
    " "
   ]
  },
  {
   "cell_type": "code",
   "execution_count": 16,
   "id": "a246fb37",
   "metadata": {},
   "outputs": [],
   "source": [
    "class car(vehicle):\n",
    "    def seating_capacity(self,capacity):\n",
    "        self.capacity=capacity\n",
    "        return f\"The {self.name_of_vehicle} has a seating capacity of {capacity} people.\"\n",
    "        "
   ]
  },
  {
   "cell_type": "code",
   "execution_count": 17,
   "id": "a8ddd097",
   "metadata": {},
   "outputs": [],
   "source": [
    "pw1=car(\"Rolls Royce\",400,200)"
   ]
  },
  {
   "cell_type": "code",
   "execution_count": 18,
   "id": "f343f1f6",
   "metadata": {},
   "outputs": [
    {
     "data": {
      "text/plain": [
       "'The Rolls Royce has a seating capacity of 4 people.'"
      ]
     },
     "execution_count": 18,
     "metadata": {},
     "output_type": "execute_result"
    }
   ],
   "source": [
    "pw1.seating_capacity(4)"
   ]
  },
  {
   "cell_type": "code",
   "execution_count": null,
   "id": "19e1526b",
   "metadata": {},
   "outputs": [],
   "source": []
  },
  {
   "cell_type": "markdown",
   "id": "64941ad6",
   "metadata": {},
   "source": [
    "# Q3. What is multiple inheritance? Write a python code to demonstrate multiple inheritance."
   ]
  },
  {
   "cell_type": "markdown",
   "id": "1cdecf12",
   "metadata": {},
   "source": [
    "When a class can be derived from more than one base class this type of inheritance is called multiple inheritances."
   ]
  },
  {
   "cell_type": "code",
   "execution_count": 19,
   "id": "dd61a140",
   "metadata": {},
   "outputs": [
    {
     "name": "stdout",
     "output_type": "stream",
     "text": [
      "This is Mother Class\n",
      "This is Father Class\n",
      "This is Child Class\n"
     ]
    }
   ],
   "source": [
    "#Multiple Inheritance Example\n",
    "\n",
    "#Base Class 1\n",
    "class Mother:\n",
    "    def fun(self):\n",
    "        print(\"This is Mother Class\")\n",
    "        \n",
    "#Base Class 2\n",
    "class Father:\n",
    "    def func2(self):\n",
    "        print(\"This is Father Class\")\n",
    "        \n",
    "#Derived Class\n",
    "class child(Mother,Father):\n",
    "    def func3(self):\n",
    "        print(\"This is Child Class\")\n",
    "    \n",
    "pw = child()\n",
    "pw.fun()\n",
    "pw.func2()\n",
    "pw.func3()"
   ]
  },
  {
   "cell_type": "code",
   "execution_count": null,
   "id": "d147908f",
   "metadata": {},
   "outputs": [],
   "source": []
  },
  {
   "cell_type": "markdown",
   "id": "db9719d7",
   "metadata": {},
   "source": [
    "# Q4. What are getter and setter in python? Create a class and create a getter and a setter method in this class.\n"
   ]
  },
  {
   "cell_type": "markdown",
   "id": "43e54e5d",
   "metadata": {},
   "source": [
    "Getter and Setter functions, also known as property methods, are a way to encapsulate the access and modification of class attributes. They allow for controlled access to the attributes by providing methods to get (retrieve) and set (modify) their values.\n",
    "Deletor function is used to delete the property/getter function therby removing the way to access the private/protected variables"
   ]
  },
  {
   "cell_type": "code",
   "execution_count": 28,
   "id": "fb659467",
   "metadata": {},
   "outputs": [],
   "source": [
    "class college:\n",
    "    \n",
    "    def __init__(self,course_price,course_name):\n",
    "        self.__course_price = course_price\n",
    "        self.course_name = course_name\n",
    "          \n",
    "    @property\n",
    "    def course_price_access(self):\n",
    "        return self.__course_price\n",
    "\n",
    "    @course_price_access.setter\n",
    "    def course_price_set(self,price):\n",
    "        if price<=100:\n",
    "            pass\n",
    "        else:\n",
    "            self.__course_price = price"
   ]
  },
  {
   "cell_type": "code",
   "execution_count": 29,
   "id": "b5953d3d",
   "metadata": {},
   "outputs": [],
   "source": [
    "pw2=college(3500,\"Data Science\")"
   ]
  },
  {
   "cell_type": "code",
   "execution_count": 30,
   "id": "c4aabde6",
   "metadata": {},
   "outputs": [
    {
     "data": {
      "text/plain": [
       "3500"
      ]
     },
     "execution_count": 30,
     "metadata": {},
     "output_type": "execute_result"
    }
   ],
   "source": [
    "pw2.course_price_access"
   ]
  },
  {
   "cell_type": "code",
   "execution_count": 31,
   "id": "9d5843e7",
   "metadata": {},
   "outputs": [],
   "source": [
    "pw2.course_price_set = 3275"
   ]
  },
  {
   "cell_type": "code",
   "execution_count": 32,
   "id": "5136e691",
   "metadata": {},
   "outputs": [
    {
     "data": {
      "text/plain": [
       "3275"
      ]
     },
     "execution_count": 32,
     "metadata": {},
     "output_type": "execute_result"
    }
   ],
   "source": [
    "pw2.course_price_access"
   ]
  },
  {
   "cell_type": "code",
   "execution_count": null,
   "id": "a3ecf3ba",
   "metadata": {},
   "outputs": [],
   "source": []
  },
  {
   "cell_type": "markdown",
   "id": "ae02f1ae",
   "metadata": {},
   "source": [
    "# Q5.What is method overriding in python? Write a python code to demonstrate method overriding."
   ]
  },
  {
   "cell_type": "markdown",
   "id": "44369132",
   "metadata": {},
   "source": [
    "Method overriding in Python is a feature that allows a subclass to provide a different implementation of a method that is already defined in its parent class. When a method is overridden in the subclass, the subclass version of the method is executed instead of the parent class version."
   ]
  },
  {
   "cell_type": "code",
   "execution_count": 33,
   "id": "bc66405e",
   "metadata": {},
   "outputs": [],
   "source": [
    "class Vehicle:\n",
    "\n",
    "    def display_info(self):\n",
    "        print(\"Class Vehicle\")\n",
    "\n",
    "\n",
    "class Car(Vehicle):\n",
    "\n",
    "    def display_info(self):\n",
    "        print(\"Class Car\")"
   ]
  },
  {
   "cell_type": "code",
   "execution_count": 35,
   "id": "8c5ade7a",
   "metadata": {},
   "outputs": [],
   "source": [
    "pw3=Car()"
   ]
  },
  {
   "cell_type": "code",
   "execution_count": 37,
   "id": "45e3c626",
   "metadata": {},
   "outputs": [
    {
     "name": "stdout",
     "output_type": "stream",
     "text": [
      "Class Car\n"
     ]
    }
   ],
   "source": [
    "pw3.display_info()"
   ]
  },
  {
   "cell_type": "code",
   "execution_count": null,
   "id": "d3f9c501",
   "metadata": {},
   "outputs": [],
   "source": []
  }
 ],
 "metadata": {
  "kernelspec": {
   "display_name": "Python 3 (ipykernel)",
   "language": "python",
   "name": "python3"
  },
  "language_info": {
   "codemirror_mode": {
    "name": "ipython",
    "version": 3
   },
   "file_extension": ".py",
   "mimetype": "text/x-python",
   "name": "python",
   "nbconvert_exporter": "python",
   "pygments_lexer": "ipython3",
   "version": "3.11.5"
  }
 },
 "nbformat": 4,
 "nbformat_minor": 5
}
